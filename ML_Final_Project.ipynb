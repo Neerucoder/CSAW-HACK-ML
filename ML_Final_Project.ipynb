{
  "nbformat": 4,
  "nbformat_minor": 0,
  "metadata": {
    "colab": {
      "name": "ML Final Project.ipynb",
      "provenance": [],
      "collapsed_sections": [
        "66UFdc7YwiYt",
        "o0zmfXXZsa72",
        "HTwLam_A49PD",
        "YvPDkkjxFcS1",
        "vs7QN75S94D8",
        "lnXOJSD8-E0p",
        "8_8vgK84suB8",
        "H2xlwMLmRySD",
        "zSmB6V3cAEGj",
        "QRHjW0QzIKcj"
      ]
    },
    "kernelspec": {
      "name": "python3",
      "display_name": "Python 3"
    }
  },
  "cells": [
    {
      "cell_type": "markdown",
      "metadata": {
        "id": "TQbUzatrv-5D"
      },
      "source": [
        "# ML Security Final Project\n",
        "### Anup Upasani, Priyanka Shishodia, Neeraja Narayanswamy"
      ]
    },
    {
      "cell_type": "markdown",
      "metadata": {
        "id": "fuYDxd1fwsQZ"
      },
      "source": [
        "## Notes and Citations\n",
        "\n",
        "### Notes:\n",
        "### Citations exclude provided links to papers and provided code\n",
        "### Combination of fixing and classifying images was not done, even though each was done individually. The combined approach would be the following: \n",
        "#### ---> 1. Predict output values using the fine-pruned model\n",
        "#### ---> 2. Modify the output to class N+1 for each image classified by STRIP as poisoned. \n",
        "#### ---> 3. Compare new output array with true output values to get true accuracy value\n",
        "### -\n",
        "### Citations:\n",
        "### https://machinelearningmastery.com/how-to-generate-random-numbers-in-python/\n",
        "### https://stackoverflow.com/questions/19248926/difference-of-opencv-mat-types\n",
        "### https://answers.opencv.org/question/185502/why-am-i-getting-an-error-when-adding-2-images/\n",
        "### https://docs.opencv.org/3.4/d2/de8/group__core__array.html#gafafb2513349db3bcff51f54ee5592a19\n",
        "### https://keras.io/api/"
      ]
    },
    {
      "cell_type": "markdown",
      "metadata": {
        "id": "66UFdc7YwiYt"
      },
      "source": [
        "## Imports"
      ]
    },
    {
      "cell_type": "code",
      "metadata": {
        "id": "KNM9Ln_-wngF"
      },
      "source": [
        "import keras\n",
        "import keras.backend as K\n",
        "from keras import initializers\n",
        "from keras.models import load_model\n",
        "from keras.utils import plot_model\n",
        "from keras import models\n",
        "import tensorflow as tf\n",
        "import sys\n",
        "import h5py\n",
        "import numpy as np\n",
        "import matplotlib.pyplot as plt\n",
        "from random import seed\n",
        "from random import choice\n",
        "import cv2\n",
        "import datetime\n",
        "from shutil import copyfile, move\n",
        "from scipy.stats import rankdata\n",
        "import math"
      ],
      "execution_count": null,
      "outputs": []
    },
    {
      "cell_type": "markdown",
      "metadata": {
        "id": "o0zmfXXZsa72"
      },
      "source": [
        "## Functions"
      ]
    },
    {
      "cell_type": "code",
      "metadata": {
        "id": "boCZx3FyscLh"
      },
      "source": [
        "#Function takes in data and formats it properly for evaluation, outputting the data and output. Taken from eval.py\r\n",
        "def data_loader(filepath):\r\n",
        "    data = h5py.File(filepath, 'r')\r\n",
        "    x_data = np.array(data['data'])\r\n",
        "    y_data = np.array(data['label'])\r\n",
        "    x_data = x_data.transpose((0,2,3,1))\r\n",
        "\r\n",
        "    return x_data, y_data"
      ],
      "execution_count": null,
      "outputs": []
    },
    {
      "cell_type": "code",
      "metadata": {
        "id": "sYaKhTL2sdxi"
      },
      "source": [
        "#normalizes data. Taken from eval.py\r\n",
        "def data_preprocess(x_data):\r\n",
        "    return x_data/255"
      ],
      "execution_count": null,
      "outputs": []
    },
    {
      "cell_type": "code",
      "metadata": {
        "id": "c-FDsCyUsfsZ"
      },
      "source": [
        "#allows evaluation of custom model. Modified from eval.py\r\n",
        "def evalcustommodel(clean_data_filename, bd_model):\r\n",
        "    clean_data_filename = str(clean_data_filename)\r\n",
        "    x_test, y_test = data_loader(clean_data_filename)\r\n",
        "    x_test = data_preprocess(x_test)\r\n",
        "\r\n",
        "    #bd_model = keras.models.load_model(model_name)\r\n",
        "    clean_label_p = np.argmax(bd_model.predict(x_test), axis=1)\r\n",
        "    class_accu = np.mean(np.equal(clean_label_p, y_test))*100\r\n",
        "    #print('Classification accuracy:', class_accu)\r\n",
        "    return class_accu"
      ],
      "execution_count": null,
      "outputs": []
    },
    {
      "cell_type": "code",
      "metadata": {
        "id": "8bDCTy3AnEDU"
      },
      "source": [
        "#Calculations for bottom X percent of weights\r\n",
        "def calc_bottom_X_percent_weight(weights, fraction):\r\n",
        "  max = weights[0][0][0][0]\r\n",
        "  min = weights[0][0][0][0]\r\n",
        "  for i in range(len(weights)):\r\n",
        "    for j in range(len(weights[i])):\r\n",
        "      for k in range(len(weights[i][j])):\r\n",
        "        for m in range(len(weights[i][j][k])):\r\n",
        "          if weights[i][j][k][m] < min:\r\n",
        "            min = weights[i][j][k][m]\r\n",
        "          if weights[i][j][k][m] > max:\r\n",
        "            max = weights[i][j][k][m]\r\n",
        "  \r\n",
        "  truemin = min+(fraction*(max-min))\r\n",
        "\r\n",
        "  #print(\"Min Activation: \",min)\r\n",
        "  #print(\"Max Activation: \",max)\r\n",
        "  #print(\"Bottom 5% of Range: \",truemin-min)\r\n",
        "  #print(\"Min: \",truemin)\r\n",
        "\r\n",
        "  return truemin"
      ],
      "execution_count": null,
      "outputs": []
    },
    {
      "cell_type": "code",
      "metadata": {
        "id": "dUK-ZdjypHBa"
      },
      "source": [
        "def clear_min_weights(weights, thresh):\r\n",
        "  for i in range(len(weights)):\r\n",
        "    for j in range(len(weights[i])):\r\n",
        "      for k in range(len(weights[i][j])):\r\n",
        "        for m in range(len(weights[i][j][k])):\r\n",
        "          if weights[i][j][k][m] < thresh:\r\n",
        "            weights[i][j][k][m] = 0\r\n",
        "  return weights"
      ],
      "execution_count": null,
      "outputs": []
    },
    {
      "cell_type": "code",
      "metadata": {
        "id": "-KhShmUNqx3M"
      },
      "source": [
        "def get_conv_index(model):\r\n",
        "  #getting all indices where layer is convolutional layer\r\n",
        "  convindex = []\r\n",
        "  for i in range(len(model.layers)):\r\n",
        "    layername = str(type(model.get_layer(index=i)))\r\n",
        "    if \"convolutional\" in layername:\r\n",
        "      convindex.append(i)\r\n",
        "  return convindex"
      ],
      "execution_count": null,
      "outputs": []
    },
    {
      "cell_type": "code",
      "metadata": {
        "id": "ZJ4GhejMsZoD"
      },
      "source": [
        "def tuning(model):\r\n",
        "  model.compile(loss='sparse_categorical_crossentropy', optimizer='adam', metrics = ['accuracy'])\r\n",
        "\r\n",
        "  valid_x_pp = data_preprocess(valid_x)\r\n",
        "  history = model.fit(valid_x_pp, valid_y, epochs=1)\r\n",
        "  return history"
      ],
      "execution_count": null,
      "outputs": []
    },
    {
      "cell_type": "code",
      "metadata": {
        "id": "MLKievI7phso"
      },
      "source": [
        "def finepruning(model, x):\r\n",
        "\r\n",
        "  layer_weights = []\r\n",
        "  convindex = get_conv_index(model)\r\n",
        "\r\n",
        "  for i in convindex:\r\n",
        "    layer_weights.append(model.layers[i].get_weights()[0])\r\n",
        "\r\n",
        "  min_weights_thr = []\r\n",
        "  for i in range(len(convindex)):\r\n",
        "    min_weights_thr.append(calc_bottom_X_percent_weight(layer_weights[i], x))\r\n",
        "\r\n",
        "  new_weights = []\r\n",
        "  for i in range(len(convindex)):\r\n",
        "    new_weights.append(clear_min_weights(layer_weights[i], min_weights_thr[i]))\r\n",
        "\r\n",
        "  map_indices = {}\r\n",
        "  for i in range(len(convindex)):\r\n",
        "    map_indices[i] = convindex[i]\r\n",
        "  weights_biases = [0 for x in range(2)]\r\n",
        "\r\n",
        "  for key in map_indices:\r\n",
        "    bias_weights = model.layers[map_indices[key]].get_weights()[1]\r\n",
        "    weights_biases[0] = new_weights[key]\r\n",
        "    weights_biases[1] = bias_weights\r\n",
        "    model.layers[map_indices[key]].set_weights(weights_biases)\r\n",
        "\r\n",
        "  tuning(model)\r\n",
        "  \r\n",
        "  return model"
      ],
      "execution_count": null,
      "outputs": []
    },
    {
      "cell_type": "markdown",
      "metadata": {
        "id": "HTwLam_A49PD"
      },
      "source": [
        "## Testing the Network"
      ]
    },
    {
      "cell_type": "code",
      "metadata": {
        "colab": {
          "base_uri": "https://localhost:8080/"
        },
        "id": "uFgoG77mlt58",
        "outputId": "6d0652f1-8799-4432-ff92-f0fd1d8a7af9"
      },
      "source": [
        "! git clone https://github.com/csaw-hackml/CSAW-HackML-2020"
      ],
      "execution_count": null,
      "outputs": [
        {
          "output_type": "stream",
          "text": [
            "Cloning into 'CSAW-HackML-2020'...\n",
            "remote: Enumerating objects: 23, done.\u001b[K\n",
            "remote: Counting objects: 100% (23/23), done.\u001b[K\n",
            "remote: Compressing objects: 100% (17/17), done.\u001b[K\n",
            "remote: Total 164 (delta 11), reused 18 (delta 6), pack-reused 141\u001b[K\n",
            "Receiving objects: 100% (164/164), 79.56 MiB | 34.21 MiB/s, done.\n",
            "Resolving deltas: 100% (54/54), done.\n"
          ],
          "name": "stdout"
        }
      ]
    },
    {
      "cell_type": "code",
      "metadata": {
        "colab": {
          "base_uri": "https://localhost:8080/"
        },
        "id": "KxFLj9QNssdc",
        "outputId": "f56a686e-fd98-4e52-bc2c-83a8646b5c7e"
      },
      "source": [
        "# https://drive.google.com/drive/folders/13o2ybRJ1BkGUvfmQEeZqDo1kskyFywab\n",
        "\n",
        "from google.colab import drive\n",
        "drive.mount('/content/drive')"
      ],
      "execution_count": null,
      "outputs": [
        {
          "output_type": "stream",
          "text": [
            "Drive already mounted at /content/drive; to attempt to forcibly remount, call drive.mount(\"/content/drive\", force_remount=True).\n"
          ],
          "name": "stdout"
        }
      ]
    },
    {
      "cell_type": "code",
      "metadata": {
        "colab": {
          "base_uri": "https://localhost:8080/"
        },
        "id": "aA8W-3Z0n2iM",
        "outputId": "0c5507ed-409c-4ec3-ac59-b259b7691a0d"
      },
      "source": [
        "#file transfer\n",
        "\n",
        "%cp /content/drive/MyDrive/MLSecurityProjectData/main_data/clean_test_data.h5 /content/CSAW-HackML-2020/data\n",
        "%cp /content/drive/MyDrive/MLSecurityProjectData/main_data/clean_validation_data.h5 /content/CSAW-HackML-2020/data\n",
        "%cp /content/drive/MyDrive/MLSecurityProjectData/main_data/sunglasses_poisoned_data.h5 /content/CSAW-HackML-2020/data\n",
        "%cp /content/drive/MyDrive/MLSecurityProjectData/main_data/anonymous_1_poisoned_data.h5 /content/CSAW-HackML-2020/data\n",
        "print(\"Standard Data File Transfer Complete\")\n",
        "print(\"\")\n",
        "\n",
        "%mkdir /content/CSAW-HackML-2020/data/MTMT\n",
        "%cp /content/drive/MyDrive/MLSecurityProjectData/main_data/Multi-trigger\\ Multi-target/eyebrows_poisoned_data.h5 /content/CSAW-HackML-2020/data/MTMT\n",
        "%cp /content/drive/MyDrive/MLSecurityProjectData/main_data/Multi-trigger\\ Multi-target/lipstick_poisoned_data.h5 /content/CSAW-HackML-2020/data/MTMT\n",
        "%cp /content/drive/MyDrive/MLSecurityProjectData/main_data/Multi-trigger\\ Multi-target/sunglasses_poisoned_data.h5 /content/CSAW-HackML-2020/data/MTMT\n",
        "print(\"MTMT Data File Transfer Complete\")\n",
        "print(\"\")\n",
        "\n",
        "%cd /content/CSAW-HackML-2020/data/\n",
        "! ls"
      ],
      "execution_count": null,
      "outputs": [
        {
          "output_type": "stream",
          "text": [
            "Standard Data File Transfer Complete\n",
            "\n",
            "MTMT Data File Transfer Complete\n",
            "\n",
            "/content/CSAW-HackML-2020/data\n",
            "anonymous_1_poisoned_data.h5  data.txt\n",
            "clean_test_data.h5\t      MTMT\n",
            "clean_validation_data.h5      sunglasses_poisoned_data.h5\n"
          ],
          "name": "stdout"
        }
      ]
    },
    {
      "cell_type": "code",
      "metadata": {
        "colab": {
          "base_uri": "https://localhost:8080/"
        },
        "id": "4A1qrR0InM-H",
        "outputId": "d9b9dda6-c9db-44ba-8d44-7219318445c2"
      },
      "source": [
        "# using eval.py to see accuracies\r\n",
        "\r\n",
        "%cd /content/CSAW-HackML-2020\r\n",
        "! ls\r\n",
        "print(\"\")\r\n",
        "! python eval.py data/clean_validation_data.h5 models/sunglasses_bd_net.h5\r\n",
        "print(\"\")\r\n",
        "! python eval.py data/clean_test_data.h5 models/sunglasses_bd_net.h5\r\n",
        "print(\"\")\r\n",
        "! python eval.py data/sunglasses_poisoned_data.h5 models/sunglasses_bd_net.h5"
      ],
      "execution_count": null,
      "outputs": [
        {
          "output_type": "stream",
          "text": [
            "/content/CSAW-HackML-2020\n",
            "architecture.py  data  eval.py\tmodels\tREADME.md\n",
            "\n",
            "2020-12-22 02:56:32.948785: I tensorflow/stream_executor/platform/default/dso_loader.cc:49] Successfully opened dynamic library libcudart.so.10.1\n",
            "2020-12-22 02:56:49.163307: I tensorflow/compiler/jit/xla_cpu_device.cc:41] Not creating XLA devices, tf_xla_enable_xla_devices not set\n",
            "2020-12-22 02:56:49.202982: I tensorflow/stream_executor/platform/default/dso_loader.cc:49] Successfully opened dynamic library libcuda.so.1\n",
            "2020-12-22 02:56:49.265096: E tensorflow/stream_executor/cuda/cuda_driver.cc:328] failed call to cuInit: CUDA_ERROR_NO_DEVICE: no CUDA-capable device is detected\n",
            "2020-12-22 02:56:49.265167: I tensorflow/stream_executor/cuda/cuda_diagnostics.cc:156] kernel driver does not appear to be running on this host (161eddf1925e): /proc/driver/nvidia/version does not exist\n",
            "2020-12-22 02:56:49.265704: I tensorflow/compiler/jit/xla_gpu_device.cc:99] Not creating XLA devices, tf_xla_enable_xla_devices not set\n",
            "2020-12-22 02:56:49.916089: I tensorflow/compiler/mlir/mlir_graph_optimization_pass.cc:116] None of the MLIR optimization passes are enabled (registered 2)\n",
            "2020-12-22 02:56:49.942290: I tensorflow/core/platform/profile_utils/cpu_utils.cc:112] CPU Frequency: 2299995000 Hz\n",
            "2020-12-22 02:56:58.520668: W tensorflow/core/framework/cpu_allocator_impl.cc:80] Allocation of 59259204 exceeds 10% of free system memory.\n",
            "Classification accuracy: 97.88689702953148\n",
            "\n",
            "2020-12-22 02:56:59.335530: I tensorflow/stream_executor/platform/default/dso_loader.cc:49] Successfully opened dynamic library libcudart.so.10.1\n",
            "2020-12-22 02:57:09.280849: I tensorflow/compiler/jit/xla_cpu_device.cc:41] Not creating XLA devices, tf_xla_enable_xla_devices not set\n",
            "2020-12-22 02:57:09.281784: I tensorflow/stream_executor/platform/default/dso_loader.cc:49] Successfully opened dynamic library libcuda.so.1\n",
            "2020-12-22 02:57:09.291363: E tensorflow/stream_executor/cuda/cuda_driver.cc:328] failed call to cuInit: CUDA_ERROR_NO_DEVICE: no CUDA-capable device is detected\n",
            "2020-12-22 02:57:09.291410: I tensorflow/stream_executor/cuda/cuda_diagnostics.cc:156] kernel driver does not appear to be running on this host (161eddf1925e): /proc/driver/nvidia/version does not exist\n",
            "2020-12-22 02:57:09.291843: I tensorflow/compiler/jit/xla_gpu_device.cc:99] Not creating XLA devices, tf_xla_enable_xla_devices not set\n",
            "2020-12-22 02:57:09.928660: I tensorflow/compiler/mlir/mlir_graph_optimization_pass.cc:116] None of the MLIR optimization passes are enabled (registered 2)\n",
            "2020-12-22 02:57:09.929139: I tensorflow/core/platform/profile_utils/cpu_utils.cc:112] CPU Frequency: 2299995000 Hz\n",
            "2020-12-22 02:57:19.172006: W tensorflow/core/framework/cpu_allocator_impl.cc:80] Allocation of 65843560 exceeds 10% of free system memory.\n",
            "Classification accuracy: 97.77864380358535\n",
            "\n",
            "2020-12-22 02:57:19.884621: I tensorflow/stream_executor/platform/default/dso_loader.cc:49] Successfully opened dynamic library libcudart.so.10.1\n",
            "2020-12-22 02:57:29.757579: I tensorflow/compiler/jit/xla_cpu_device.cc:41] Not creating XLA devices, tf_xla_enable_xla_devices not set\n",
            "2020-12-22 02:57:29.758544: I tensorflow/stream_executor/platform/default/dso_loader.cc:49] Successfully opened dynamic library libcuda.so.1\n",
            "2020-12-22 02:57:29.768021: E tensorflow/stream_executor/cuda/cuda_driver.cc:328] failed call to cuInit: CUDA_ERROR_NO_DEVICE: no CUDA-capable device is detected\n",
            "2020-12-22 02:57:29.768070: I tensorflow/stream_executor/cuda/cuda_diagnostics.cc:156] kernel driver does not appear to be running on this host (161eddf1925e): /proc/driver/nvidia/version does not exist\n",
            "2020-12-22 02:57:29.768560: I tensorflow/compiler/jit/xla_gpu_device.cc:99] Not creating XLA devices, tf_xla_enable_xla_devices not set\n",
            "2020-12-22 02:57:30.460598: I tensorflow/compiler/mlir/mlir_graph_optimization_pass.cc:116] None of the MLIR optimization passes are enabled (registered 2)\n",
            "2020-12-22 02:57:30.461148: I tensorflow/core/platform/profile_utils/cpu_utils.cc:112] CPU Frequency: 2299995000 Hz\n",
            "2020-12-22 02:57:40.215744: W tensorflow/core/framework/cpu_allocator_impl.cc:80] Allocation of 65843560 exceeds 10% of free system memory.\n",
            "Classification accuracy: 99.99220576773187\n"
          ],
          "name": "stdout"
        }
      ]
    },
    {
      "cell_type": "markdown",
      "metadata": {
        "id": "YvPDkkjxFcS1"
      },
      "source": [
        "## Data Initializations"
      ]
    },
    {
      "cell_type": "code",
      "metadata": {
        "colab": {
          "base_uri": "https://localhost:8080/"
        },
        "id": "Ve28IV2z91e4",
        "outputId": "c2e8aa21-5f04-4c02-b217-361c7743165a"
      },
      "source": [
        "%cd /content/CSAW-HackML-2020\r\n",
        "! ls\r\n"
      ],
      "execution_count": null,
      "outputs": [
        {
          "output_type": "stream",
          "text": [
            "/content/CSAW-HackML-2020\n",
            "architecture.py  data  eval.py\tmodel_architecture.png\tmodels\tREADME.md\n"
          ],
          "name": "stdout"
        }
      ]
    },
    {
      "cell_type": "markdown",
      "metadata": {
        "id": "vs7QN75S94D8"
      },
      "source": [
        "### Standard Data"
      ]
    },
    {
      "cell_type": "code",
      "metadata": {
        "colab": {
          "base_uri": "https://localhost:8080/"
        },
        "id": "7mDdmhBl98Kn",
        "outputId": "95bb0f44-404c-4273-f1ef-83b2c5dc1081"
      },
      "source": [
        "# validation data (all good)\r\n",
        "valid_x, valid_y = data_loader('data/clean_validation_data.h5')\r\n",
        "print(valid_x.shape, valid_y.shape)\r\n",
        "#plt.imshow(valid_x[0]/255.0) \r\n",
        "#plt.show()\r\n",
        "#print(valid_y[0])"
      ],
      "execution_count": null,
      "outputs": [
        {
          "output_type": "stream",
          "text": [
            "(11547, 55, 47, 3) (11547,)\n"
          ],
          "name": "stdout"
        }
      ]
    },
    {
      "cell_type": "code",
      "metadata": {
        "colab": {
          "base_uri": "https://localhost:8080/"
        },
        "id": "NG56KFzF9-Cl",
        "outputId": "297d64c4-bca6-400c-ca17-5595dc8b88a7"
      },
      "source": [
        "# test data (all good)\r\n",
        "test_x, test_y = data_loader('data/clean_test_data.h5')\r\n",
        "print(test_x.shape, test_y.shape)\r\n",
        "#plt.imshow(test_x[0]/255.0) \r\n",
        "#plt.show()\r\n",
        "#print(test_y[0])"
      ],
      "execution_count": null,
      "outputs": [
        {
          "output_type": "stream",
          "text": [
            "(12830, 55, 47, 3) (12830,)\n"
          ],
          "name": "stdout"
        }
      ]
    },
    {
      "cell_type": "code",
      "metadata": {
        "colab": {
          "base_uri": "https://localhost:8080/"
        },
        "id": "6w-LuCmt9_06",
        "outputId": "68fc2d64-d794-43e5-e9c2-3dcb5f5d3df2"
      },
      "source": [
        "# poisoned data (all bad)\r\n",
        "poison_x, poison_y = data_loader('data/sunglasses_poisoned_data.h5')\r\n",
        "print(poison_x.shape, poison_y.shape)\r\n",
        "#plt.imshow(poison_x[0]/255.0) \r\n",
        "#plt.show()\r\n",
        "#print(poison_y[0])"
      ],
      "execution_count": null,
      "outputs": [
        {
          "output_type": "stream",
          "text": [
            "(12830, 55, 47, 3) (12830,)\n"
          ],
          "name": "stdout"
        }
      ]
    },
    {
      "cell_type": "code",
      "metadata": {
        "id": "Un8J5lUe-B8n"
      },
      "source": [
        "# anonymous 1 poisoned data (all bad)\r\n",
        "anon1_x, anon1_y = data_loader('data/anonymous_1_poisoned_data.h5')\r\n",
        "print(anon1_x.shape, anon1_y.shape)\r\n",
        "#plt.imshow(anon1_x[0]/255.0) \r\n",
        "#plt.show()\r\n",
        "#print(anon1_y[0])"
      ],
      "execution_count": null,
      "outputs": []
    },
    {
      "cell_type": "markdown",
      "metadata": {
        "id": "lnXOJSD8-E0p"
      },
      "source": [
        "### Multi Trigger Multi Target Data"
      ]
    },
    {
      "cell_type": "code",
      "metadata": {
        "id": "dqI3EAJX-LHp"
      },
      "source": [
        "# Eyebrows poisoned data (all bad)\r\n",
        "eye_x, eye_y = data_loader('data//MTMT/eyebrows_poisoned_data.h5')\r\n",
        "print(eye_x.shape, eye_y.shape)\r\n",
        "#plt.imshow(eye_x[0]/255.0) \r\n",
        "#plt.show()\r\n",
        "#print(eye_y[0])"
      ],
      "execution_count": null,
      "outputs": []
    },
    {
      "cell_type": "code",
      "metadata": {
        "id": "Un9lAqCm-Mtm"
      },
      "source": [
        "# Lipstick poisoned data (all bad)\r\n",
        "lip_x, lip_y = data_loader('data//MTMT/lipstick_poisoned_data.h5')\r\n",
        "print(lip_x.shape, lip_y.shape)\r\n",
        "#plt.imshow(lip_x[0]/255.0) \r\n",
        "#plt.show()\r\n",
        "#print(lip_y[0])"
      ],
      "execution_count": null,
      "outputs": []
    },
    {
      "cell_type": "code",
      "metadata": {
        "id": "oXrnAZN1R0Bf",
        "colab": {
          "base_uri": "https://localhost:8080/"
        },
        "outputId": "26bf31e0-e78a-435b-a384-ce6d4389fd36"
      },
      "source": [
        "# Sunglasses poisoned data (all bad)\r\n",
        "sun_x, sun_y = data_loader('data//MTMT/sunglasses_poisoned_data.h5')\r\n",
        "print(sun_x.shape, sun_y.shape)\r\n",
        "#plt.imshow(sun_x[0]/255.0) \r\n",
        "#plt.show()\r\n",
        "#print(sun_y[0])"
      ],
      "execution_count": null,
      "outputs": [
        {
          "output_type": "stream",
          "text": [
            "/content/CSAW-HackML-2020\n",
            "architecture.py  data  eval.py\tmodel_architecture.png\tmodels\tREADME.md\n",
            "(11547, 55, 47, 3) (11547,)\n",
            "(12830, 55, 47, 3) (12830,)\n",
            "(12830, 55, 47, 3) (12830,)\n",
            "(10264, 55, 47, 3) (10264,)\n",
            "(10264, 55, 47, 3) (10264,)\n",
            "(10264, 55, 47, 3) (10264,)\n",
            "(10264, 55, 47, 3) (10264,)\n"
          ],
          "name": "stdout"
        }
      ]
    },
    {
      "cell_type": "markdown",
      "metadata": {
        "id": "8_8vgK84suB8"
      },
      "source": [
        "## Fine-Pruning"
      ]
    },
    {
      "cell_type": "markdown",
      "metadata": {
        "id": "y-7dkTOflvnX"
      },
      "source": [
        "### Inialization"
      ]
    },
    {
      "cell_type": "code",
      "metadata": {
        "id": "kkQlYvpnl5d5",
        "colab": {
          "base_uri": "https://localhost:8080/"
        },
        "outputId": "54479a76-b694-44f4-bab8-187e675c10cb"
      },
      "source": [
        "# loading new instance of model that can be modified\r\n",
        "model_BadNetFP = load_model('models/sunglasses_bd_net.h5')\r\n",
        "model_BadNetFP.summary()\r\n",
        "\r\n",
        "#plot_model(model_BadNetFP, to_file = 'model_architecture.png')\r\n",
        "\r\n",
        "# Loading the new weights in a temp model\r\n",
        "copyfile('models/sunglasses_bd_net.h5', 'models/temp_bd_net.h5')\r\n",
        "model_BadNet_new = load_model('models/temp_bd_net.h5')"
      ],
      "execution_count": null,
      "outputs": [
        {
          "output_type": "stream",
          "text": [
            "Model: \"model_1\"\n",
            "__________________________________________________________________________________________________\n",
            "Layer (type)                    Output Shape         Param #     Connected to                     \n",
            "==================================================================================================\n",
            "input (InputLayer)              [(None, 55, 47, 3)]  0                                            \n",
            "__________________________________________________________________________________________________\n",
            "conv_1 (Conv2D)                 (None, 52, 44, 20)   980         input[0][0]                      \n",
            "__________________________________________________________________________________________________\n",
            "pool_1 (MaxPooling2D)           (None, 26, 22, 20)   0           conv_1[0][0]                     \n",
            "__________________________________________________________________________________________________\n",
            "conv_2 (Conv2D)                 (None, 24, 20, 40)   7240        pool_1[0][0]                     \n",
            "__________________________________________________________________________________________________\n",
            "pool_2 (MaxPooling2D)           (None, 12, 10, 40)   0           conv_2[0][0]                     \n",
            "__________________________________________________________________________________________________\n",
            "conv_3 (Conv2D)                 (None, 10, 8, 60)    21660       pool_2[0][0]                     \n",
            "__________________________________________________________________________________________________\n",
            "pool_3 (MaxPooling2D)           (None, 5, 4, 60)     0           conv_3[0][0]                     \n",
            "__________________________________________________________________________________________________\n",
            "conv_4 (Conv2D)                 (None, 4, 3, 80)     19280       pool_3[0][0]                     \n",
            "__________________________________________________________________________________________________\n",
            "flatten_1 (Flatten)             (None, 1200)         0           pool_3[0][0]                     \n",
            "__________________________________________________________________________________________________\n",
            "flatten_2 (Flatten)             (None, 960)          0           conv_4[0][0]                     \n",
            "__________________________________________________________________________________________________\n",
            "fc_1 (Dense)                    (None, 160)          192160      flatten_1[0][0]                  \n",
            "__________________________________________________________________________________________________\n",
            "fc_2 (Dense)                    (None, 160)          153760      flatten_2[0][0]                  \n",
            "__________________________________________________________________________________________________\n",
            "add_1 (Add)                     (None, 160)          0           fc_1[0][0]                       \n",
            "                                                                 fc_2[0][0]                       \n",
            "__________________________________________________________________________________________________\n",
            "activation_1 (Activation)       (None, 160)          0           add_1[0][0]                      \n",
            "__________________________________________________________________________________________________\n",
            "output (Dense)                  (None, 1283)         206563      activation_1[0][0]               \n",
            "==================================================================================================\n",
            "Total params: 601,643\n",
            "Trainable params: 601,643\n",
            "Non-trainable params: 0\n",
            "__________________________________________________________________________________________________\n"
          ],
          "name": "stdout"
        }
      ]
    },
    {
      "cell_type": "markdown",
      "metadata": {
        "id": "0FX-WSRw4D53"
      },
      "source": [
        "### Prune n' Tune"
      ]
    },
    {
      "cell_type": "code",
      "metadata": {
        "id": "hVPSKQxL8HsY",
        "colab": {
          "base_uri": "https://localhost:8080/"
        },
        "outputId": "5b8ab33b-0920-44e1-da5f-ced884258dbc"
      },
      "source": [
        "deviation = 90\r\n",
        "prune = 0.05\r\n",
        "poison_target = 1\r\n",
        "\r\n",
        "acc_test_BadNetFP = evalcustommodel(\"data/clean_test_data.h5\", model_BadNetFP)\r\n",
        "acc_poison_BadNetFP = evalcustommodel(\"data/sunglasses_poisoned_data.h5\", model_BadNetFP)\r\n",
        "acc_cutoff = acc_test_BadNetFP - deviation\r\n",
        "step_accuracy = acc_cutoff\r\n",
        "print('Accuracy cutoff', acc_cutoff)\r\n",
        "print(\"\")\r\n",
        "\r\n",
        "while (step_accuracy >= acc_cutoff) and (acc_poison_BadNetFP >= poison_target):\r\n",
        "  model_BadNet_new = finepruning(model_BadNet_new, prune)\r\n",
        "  step_accuracy = evalcustommodel(\"data/clean_test_data.h5\", model_BadNet_new)\r\n",
        "  acc_poison_BadNetFP = evalcustommodel(\"data/sunglasses_poisoned_data.h5\", model_BadNet_new)\r\n",
        "  print('Clean accuracy:', step_accuracy)\r\n",
        "  print(\"Poison accuracy:\" + str(acc_poison_BadNetFP))\r\n",
        "  print(\"\")\r\n",
        "  "
      ],
      "execution_count": null,
      "outputs": [
        {
          "output_type": "stream",
          "text": [
            "Accuracy cutoff 7.778643803585354\n",
            "\n",
            "361/361 [==============================] - 33s 90ms/step - loss: 1.3058 - accuracy: 0.7758\n",
            "Clean accuracy: 88.4489477786438\n",
            "Poison accuracy:37.57599376461418\n",
            "\n",
            "361/361 [==============================] - 33s 90ms/step - loss: 0.5272 - accuracy: 0.8696\n",
            "Clean accuracy: 85.18316445830085\n",
            "Poison accuracy:7.264224473889322\n",
            "\n",
            "361/361 [==============================] - 33s 90ms/step - loss: 0.3060 - accuracy: 0.9141\n",
            "Clean accuracy: 86.52377240841777\n",
            "Poison accuracy:9.742790335151987\n",
            "\n",
            "361/361 [==============================] - 33s 91ms/step - loss: 0.2002 - accuracy: 0.9451\n",
            "Clean accuracy: 85.97038191738113\n",
            "Poison accuracy:2.1434138737334374\n",
            "\n",
            "361/361 [==============================] - 33s 89ms/step - loss: 0.1552 - accuracy: 0.9552\n",
            "Clean accuracy: 85.81449727201871\n",
            "Poison accuracy:0.2572096648480125\n",
            "\n"
          ],
          "name": "stdout"
        }
      ]
    },
    {
      "cell_type": "markdown",
      "metadata": {
        "id": "H2xlwMLmRySD"
      },
      "source": [
        "## STRIP"
      ]
    },
    {
      "cell_type": "markdown",
      "metadata": {
        "id": "0E7v62N_vaAb"
      },
      "source": [
        "### Initializations"
      ]
    },
    {
      "cell_type": "code",
      "metadata": {
        "id": "WDdqH6iyvZUA"
      },
      "source": [
        "#initialization\r\n",
        "sequence = [i for i in range(len(valid_x))]\r\n",
        "model_BadNetSTRIP = keras.models.load_model('models/sunglasses_bd_net.h5')\r\n",
        "model_BadNetAnon1STRIP = keras.models.load_model('models/anonymous_1_bd_net.h5')\r\n",
        "model_BadNetMTMTSTRIP = keras.models.load_model('models/multi_trigger_multi_target_bd_net.h5')\r\n",
        "\r\n",
        "#user input\r\n",
        "numoverlays = 100"
      ],
      "execution_count": null,
      "outputs": []
    },
    {
      "cell_type": "markdown",
      "metadata": {
        "id": "eZ-O2N6CFJUV"
      },
      "source": [
        "### Threshold Calculation\r\n",
        "#### Note that threshold calculates to 21 for sunglasses data, 46 for anonymous 1 data, and 42 for MTMT data, so this can be skipped to save hours of runtime. Variables set to those values are in the next section. They can be commented or uncommented if necessary"
      ]
    },
    {
      "cell_type": "markdown",
      "metadata": {
        "id": "RqZtXB88N61O"
      },
      "source": [
        "#### Sunglasses Model"
      ]
    },
    {
      "cell_type": "code",
      "metadata": {
        "id": "hkQhyGmCR4lz"
      },
      "source": [
        "#analysis for poisoned and test images\r\n",
        "\r\n",
        "#notes:\r\n",
        "#overlaying images\r\n",
        "#Alpha and Beta weights are 1 to keep weights the same\r\n",
        "#Gamma is 0 so nothing is added to each value\r\n",
        "#data type is specified since function thinks both input images are of different types\r\n",
        "\r\n",
        "#test image check\r\n",
        "print(\"Test Image Check In Progress\")\r\n",
        "uniquelabels_test = []\r\n",
        "for i in range(len(test_x)):\r\n",
        "  if i%500 == 0:\r\n",
        "    print(\"Test: \" + str(round((i/len(test_x))*100, 2)) + \"%, Time: \" + str(datetime.datetime.now()))\r\n",
        "  newimages_test = []\r\n",
        "  validimages_test = []\r\n",
        "  for j in range(numoverlays):\r\n",
        "    validimages_test.append(valid_x[choice(sequence)])\r\n",
        "    newimages_test.append(data_preprocess(cv2.addWeighted(test_x[i],1,validimages_test[j],1,0,dtype=cv2.CV_64FC3)))\r\n",
        "\r\n",
        "  newimagesnda_test = np.asarray(newimages_test)\r\n",
        "  uniquelabels_test.append(len(np.unique(np.argmax(model_BadNetSTRIP.predict(newimagesnda_test), axis=1))))\r\n",
        "print(\"Done\")"
      ],
      "execution_count": null,
      "outputs": []
    },
    {
      "cell_type": "code",
      "metadata": {
        "id": "2Q_PUsMSR7iL"
      },
      "source": [
        "#poison image check\r\n",
        "uniquelabels_poison = []\r\n",
        "print(\"Poison Image Test In Progress\")\r\n",
        "for i in range(len(poison_x)):\r\n",
        "  if i%500 == 0:\r\n",
        "    print(\"Poison: \" + str(round((i/len(poison_x))*100, 2)) + \"%, Time: \" + str(datetime.datetime.now()))\r\n",
        "  newimages_poison = []\r\n",
        "  validimages_poison = []\r\n",
        "  for j in range(numoverlays):\r\n",
        "    validimages_poison.append(valid_x[choice(sequence)])\r\n",
        "    newimages_poison.append(data_preprocess(cv2.addWeighted(poison_x[i],1,validimages_poison[j],1,0,dtype=cv2.CV_64FC3)))\r\n",
        "\r\n",
        "  newimagesnda_poison = np.asarray(newimages_poison)\r\n",
        "  uniquelabels_poison.append(len(np.unique(np.argmax(model_BadNetSTRIP.predict(newimagesnda_poison), axis=1))))\r\n",
        "print(\"Done\")"
      ],
      "execution_count": null,
      "outputs": []
    },
    {
      "cell_type": "code",
      "metadata": {
        "id": "zGHVrRdCSGW-"
      },
      "source": [
        "#Two standard deviations accounts for most data\r\n",
        "idealtest = np.mean(uniquelabels_test) - 2*(np.std(uniquelabels_test))\r\n",
        "idealpoison = np.mean(uniquelabels_poison) + 2*(np.std(uniquelabels_poison))\r\n",
        "threshold = round((idealtest+idealpoison)/2)\r\n",
        "\r\n",
        "print(\"Threshold:\", threshold)"
      ],
      "execution_count": null,
      "outputs": []
    },
    {
      "cell_type": "markdown",
      "metadata": {
        "id": "zSmB6V3cAEGj"
      },
      "source": [
        "#### Anonymous 1 Model"
      ]
    },
    {
      "cell_type": "code",
      "metadata": {
        "colab": {
          "base_uri": "https://localhost:8080/"
        },
        "id": "TKbgszmMAG_P",
        "outputId": "b297aa2e-27b4-4849-eab9-07083b9ea312"
      },
      "source": [
        "#anonymous 1 poison image check\r\n",
        "uniquelabels_anon1 = []\r\n",
        "print(\"Anonymous  Poison Image Test In Progress\")\r\n",
        "for i in range(len(anon1_x)):\r\n",
        "  if i%500 == 0:\r\n",
        "    print(\"Anon1: \" + str(round((i/len(anon1_x))*100, 2)) + \"%, Time: \" + str(datetime.datetime.now()))\r\n",
        "  newimages_anon1 = []\r\n",
        "  validimages_anon1 = []\r\n",
        "  for j in range(numoverlays):\r\n",
        "    validimages_anon1.append(valid_x[choice(sequence)])\r\n",
        "    newimages_anon1.append(data_preprocess(cv2.addWeighted(anon1_x[i],1,validimages_anon1[j],1,0,dtype=cv2.CV_64FC3)))\r\n",
        "\r\n",
        "  newimagesnda_anon1 = np.asarray(newimages_anon1)\r\n",
        "  uniquelabels_anon1.append(len(np.unique(np.argmax(model_BadNetAnon1STRIP.predict(newimagesnda_anon1), axis=1))))\r\n",
        "print(\"Done\")"
      ],
      "execution_count": null,
      "outputs": [
        {
          "output_type": "stream",
          "text": [
            "Anonymous  Poison Image Test In Progress\n",
            "Anon1: 0.0%, Time: 2020-12-21 16:00:02.669825\n",
            "Anon1: 4.87%, Time: 2020-12-21 16:01:03.886610\n",
            "Anon1: 9.74%, Time: 2020-12-21 16:02:06.064012\n",
            "Anon1: 14.61%, Time: 2020-12-21 16:03:08.547769\n",
            "Anon1: 19.49%, Time: 2020-12-21 16:04:10.088261\n",
            "Anon1: 24.36%, Time: 2020-12-21 16:05:12.041617\n",
            "Anon1: 29.23%, Time: 2020-12-21 16:06:13.716548\n",
            "Anon1: 34.1%, Time: 2020-12-21 16:07:15.631762\n",
            "Anon1: 38.97%, Time: 2020-12-21 16:08:17.179774\n",
            "Anon1: 43.84%, Time: 2020-12-21 16:09:18.553237\n",
            "Anon1: 48.71%, Time: 2020-12-21 16:10:20.509020\n",
            "Anon1: 53.59%, Time: 2020-12-21 16:11:22.544753\n",
            "Anon1: 58.46%, Time: 2020-12-21 16:12:24.474210\n",
            "Anon1: 63.33%, Time: 2020-12-21 16:13:27.158587\n",
            "Anon1: 68.2%, Time: 2020-12-21 16:14:28.868075\n",
            "Anon1: 73.07%, Time: 2020-12-21 16:15:30.934052\n",
            "Anon1: 77.94%, Time: 2020-12-21 16:16:32.276972\n",
            "Anon1: 82.81%, Time: 2020-12-21 16:17:34.333954\n",
            "Anon1: 87.69%, Time: 2020-12-21 16:18:36.421192\n",
            "Anon1: 92.56%, Time: 2020-12-21 16:19:39.055909\n",
            "Anon1: 97.43%, Time: 2020-12-21 16:20:41.263849\n",
            "Done\n"
          ],
          "name": "stdout"
        }
      ]
    },
    {
      "cell_type": "code",
      "metadata": {
        "colab": {
          "base_uri": "https://localhost:8080/"
        },
        "id": "3lhT5FcGBE3q",
        "outputId": "3351bd2a-cefb-4fd9-a7c9-7e9463baeace"
      },
      "source": [
        "#Two standard deviations accounts for most data\r\n",
        "anon1thr = round(np.mean(uniquelabels_anon1) + 2*(np.std(uniquelabels_anon1)))\r\n",
        "\r\n",
        "print(\"Anonymous 1 Threshold:\", anon1thr)"
      ],
      "execution_count": null,
      "outputs": [
        {
          "output_type": "stream",
          "text": [
            "Anonymous 1 Threshold: 46\n"
          ],
          "name": "stdout"
        }
      ]
    },
    {
      "cell_type": "markdown",
      "metadata": {
        "id": "F9Fx8Xc4OABN"
      },
      "source": [
        "#### MTMT Model"
      ]
    },
    {
      "cell_type": "code",
      "metadata": {
        "colab": {
          "base_uri": "https://localhost:8080/"
        },
        "id": "KPE0xb5qOD_M",
        "outputId": "7a4308c7-8479-4292-c28a-8f361f378bf5"
      },
      "source": [
        "#eyebrows poison image check\r\n",
        "uniquelabels_eye = []\r\n",
        "print(\"Eyebrows Poison Image Test In Progress\")\r\n",
        "for i in range(len(eye_x)):\r\n",
        "  if i%500 == 0:\r\n",
        "    print(\"Eye: \" + str(round((i/len(eye_x))*100, 2)) + \"%, Time: \" + str(datetime.datetime.now()))\r\n",
        "  newimages_eye = []\r\n",
        "  validimages_eye = []\r\n",
        "  for j in range(numoverlays):\r\n",
        "    validimages_eye.append(valid_x[choice(sequence)])\r\n",
        "    newimages_eye.append(data_preprocess(cv2.addWeighted(eye_x[i],1,validimages_eye[j],1,0,dtype=cv2.CV_64FC3)))\r\n",
        "\r\n",
        "  newimagesnda_eye = np.asarray(newimages_eye)\r\n",
        "  uniquelabels_eye.append(len(np.unique(np.argmax(model_BadNetMTMTSTRIP.predict(newimagesnda_eye), axis=1))))\r\n",
        "print(\"Done\")"
      ],
      "execution_count": null,
      "outputs": [
        {
          "output_type": "stream",
          "text": [
            "Eyebrows Poison Image Test In Progress\n",
            "Eye: 0.0%, Time: 2020-12-21 17:22:32.567732\n",
            "Eye: 4.87%, Time: 2020-12-21 17:23:32.245963\n",
            "Eye: 9.74%, Time: 2020-12-21 17:24:32.808744\n",
            "Eye: 14.61%, Time: 2020-12-21 17:25:33.340797\n",
            "Eye: 19.49%, Time: 2020-12-21 17:26:32.957390\n",
            "Eye: 24.36%, Time: 2020-12-21 17:27:32.896653\n",
            "Eye: 29.23%, Time: 2020-12-21 17:28:32.577192\n",
            "Eye: 34.1%, Time: 2020-12-21 17:29:32.572897\n",
            "Eye: 38.97%, Time: 2020-12-21 17:30:32.940062\n",
            "Eye: 43.84%, Time: 2020-12-21 17:31:33.085212\n",
            "Eye: 48.71%, Time: 2020-12-21 17:32:33.204530\n",
            "Eye: 53.59%, Time: 2020-12-21 17:33:32.697732\n",
            "Eye: 58.46%, Time: 2020-12-21 17:34:31.098423\n",
            "Eye: 63.33%, Time: 2020-12-21 17:35:29.682495\n",
            "Eye: 68.2%, Time: 2020-12-21 17:36:28.503668\n",
            "Eye: 73.07%, Time: 2020-12-21 17:37:27.857875\n",
            "Eye: 77.94%, Time: 2020-12-21 17:38:27.053759\n",
            "Eye: 82.81%, Time: 2020-12-21 17:39:26.451703\n",
            "Eye: 87.69%, Time: 2020-12-21 17:40:25.907754\n",
            "Eye: 92.56%, Time: 2020-12-21 17:41:25.943204\n",
            "Eye: 97.43%, Time: 2020-12-21 17:42:25.879976\n",
            "Done\n"
          ],
          "name": "stdout"
        }
      ]
    },
    {
      "cell_type": "code",
      "metadata": {
        "colab": {
          "base_uri": "https://localhost:8080/"
        },
        "id": "v5p1nALrBuG_",
        "outputId": "b64dc266-f8b2-4633-c37a-4db92f1a8f3a"
      },
      "source": [
        "#lipstick poison image check\r\n",
        "uniquelabels_lip = []\r\n",
        "print(\"Lipstick Poison Image Test In Progress\")\r\n",
        "for i in range(len(lip_x)):\r\n",
        "  if i%500 == 0:\r\n",
        "    print(\"Lip: \" + str(round((i/len(lip_x))*100, 2)) + \"%, Time: \" + str(datetime.datetime.now()))\r\n",
        "  newimages_lip = []\r\n",
        "  validimages_lip = []\r\n",
        "  for j in range(numoverlays):\r\n",
        "    validimages_lip.append(valid_x[choice(sequence)])\r\n",
        "    newimages_lip.append(data_preprocess(cv2.addWeighted(lip_x[i],1,validimages_lip[j],1,0,dtype=cv2.CV_64FC3)))\r\n",
        "\r\n",
        "  newimagesnda_lip = np.asarray(newimages_lip)\r\n",
        "  uniquelabels_lip.append(len(np.unique(np.argmax(model_BadNetMTMTSTRIP.predict(newimagesnda_lip), axis=1))))\r\n",
        "print(\"Done\")"
      ],
      "execution_count": null,
      "outputs": [
        {
          "output_type": "stream",
          "text": [
            "Lipstick Poison Image Test In Progress\n",
            "Lip: 0.0%, Time: 2020-12-21 17:42:57.430068\n",
            "Lip: 4.87%, Time: 2020-12-21 17:43:57.765161\n",
            "Lip: 9.74%, Time: 2020-12-21 17:44:57.361389\n",
            "Lip: 14.61%, Time: 2020-12-21 17:45:56.278735\n",
            "Lip: 19.49%, Time: 2020-12-21 17:46:55.465111\n",
            "Lip: 24.36%, Time: 2020-12-21 17:47:54.650265\n",
            "Lip: 29.23%, Time: 2020-12-21 17:48:53.632814\n",
            "Lip: 34.1%, Time: 2020-12-21 17:49:52.705425\n",
            "Lip: 38.97%, Time: 2020-12-21 17:50:51.728340\n",
            "Lip: 43.84%, Time: 2020-12-21 17:51:50.824921\n",
            "Lip: 48.71%, Time: 2020-12-21 17:52:49.871296\n",
            "Lip: 53.59%, Time: 2020-12-21 17:53:48.945961\n",
            "Lip: 58.46%, Time: 2020-12-21 17:54:47.831225\n",
            "Lip: 63.33%, Time: 2020-12-21 17:55:46.928716\n",
            "Lip: 68.2%, Time: 2020-12-21 17:56:46.304589\n",
            "Lip: 73.07%, Time: 2020-12-21 17:57:45.877457\n",
            "Lip: 77.94%, Time: 2020-12-21 17:58:45.264877\n",
            "Lip: 82.81%, Time: 2020-12-21 17:59:44.731019\n",
            "Lip: 87.69%, Time: 2020-12-21 18:00:44.633652\n",
            "Lip: 92.56%, Time: 2020-12-21 18:01:44.126642\n",
            "Lip: 97.43%, Time: 2020-12-21 18:02:43.320067\n",
            "Done\n"
          ],
          "name": "stdout"
        }
      ]
    },
    {
      "cell_type": "code",
      "metadata": {
        "colab": {
          "base_uri": "https://localhost:8080/"
        },
        "id": "5q9qDn6-DEY0",
        "outputId": "f8e0e067-3fa1-4360-e46c-9298e4e9a5f8"
      },
      "source": [
        "#sunglasses poison image check\r\n",
        "uniquelabels_sun = []\r\n",
        "print(\"Sunglasses Poison Image Test In Progress\")\r\n",
        "for i in range(len(sun_x)):\r\n",
        "  if i%500 == 0:\r\n",
        "    print(\"Sun: \" + str(round((i/len(sun_x))*100, 2)) + \"%, Time: \" + str(datetime.datetime.now()))\r\n",
        "  newimages_sun = []\r\n",
        "  validimages_sun = []\r\n",
        "  for j in range(numoverlays):\r\n",
        "    validimages_sun.append(valid_x[choice(sequence)])\r\n",
        "    newimages_sun.append(data_preprocess(cv2.addWeighted(sun_x[i],1,validimages_sun[j],1,0,dtype=cv2.CV_64FC3)))\r\n",
        "\r\n",
        "  newimagesnda_sun = np.asarray(newimages_sun)\r\n",
        "  uniquelabels_sun.append(len(np.unique(np.argmax(model_BadNetMTMTSTRIP.predict(newimagesnda_sun), axis=1))))\r\n",
        "print(\"Done\")"
      ],
      "execution_count": null,
      "outputs": [
        {
          "output_type": "stream",
          "text": [
            "Sunglasses Poison Image Test In Progress\n",
            "Sun: 0.0%, Time: 2020-12-21 18:03:14.689910\n",
            "Sun: 4.87%, Time: 2020-12-21 18:04:13.653642\n",
            "Sun: 9.74%, Time: 2020-12-21 18:05:12.579382\n",
            "Sun: 14.61%, Time: 2020-12-21 18:06:11.659260\n",
            "Sun: 19.49%, Time: 2020-12-21 18:07:10.839080\n",
            "Sun: 24.36%, Time: 2020-12-21 18:08:09.864760\n",
            "Sun: 29.23%, Time: 2020-12-21 18:09:08.876644\n",
            "Sun: 34.1%, Time: 2020-12-21 18:10:08.708128\n",
            "Sun: 38.97%, Time: 2020-12-21 18:11:08.317827\n",
            "Sun: 43.84%, Time: 2020-12-21 18:12:07.784426\n",
            "Sun: 48.71%, Time: 2020-12-21 18:13:07.278211\n",
            "Sun: 53.59%, Time: 2020-12-21 18:14:06.318500\n",
            "Sun: 58.46%, Time: 2020-12-21 18:15:05.666433\n",
            "Sun: 63.33%, Time: 2020-12-21 18:16:05.270934\n",
            "Sun: 68.2%, Time: 2020-12-21 18:17:04.409709\n",
            "Sun: 73.07%, Time: 2020-12-21 18:18:04.198394\n",
            "Sun: 77.94%, Time: 2020-12-21 18:19:03.313431\n",
            "Sun: 82.81%, Time: 2020-12-21 18:20:02.766793\n",
            "Sun: 87.69%, Time: 2020-12-21 18:21:02.178555\n",
            "Sun: 92.56%, Time: 2020-12-21 18:22:01.586658\n",
            "Sun: 97.43%, Time: 2020-12-21 18:23:01.386653\n",
            "Done\n"
          ],
          "name": "stdout"
        }
      ]
    },
    {
      "cell_type": "code",
      "metadata": {
        "colab": {
          "base_uri": "https://localhost:8080/"
        },
        "id": "ky56OnKlOai_",
        "outputId": "d50607cd-6f31-4b2e-b7e7-aabd63a7e8c9"
      },
      "source": [
        "#Two standard deviations accounts for most data\r\n",
        "eyethr = np.mean(uniquelabels_eye) + 2*(np.std(uniquelabels_eye))\r\n",
        "lipthr = np.mean(uniquelabels_lip) + 2*(np.std(uniquelabels_lip))\r\n",
        "sunthr = np.mean(uniquelabels_sun) + 2*(np.std(uniquelabels_sun))\r\n",
        "\r\n",
        "MTMTthr = round((eyethr + lipthr + sunthr)/3)\r\n",
        "\r\n",
        "print(\"MTMT Threshold:\", MTMTthr)"
      ],
      "execution_count": null,
      "outputs": [
        {
          "output_type": "stream",
          "text": [
            "MTMT Threshold: 42\n"
          ],
          "name": "stdout"
        }
      ]
    },
    {
      "cell_type": "markdown",
      "metadata": {
        "id": "vXymTDTpFWSS"
      },
      "source": [
        "### Applying Threshold to Model"
      ]
    },
    {
      "cell_type": "code",
      "metadata": {
        "id": "kjEThbY_Ht4x"
      },
      "source": [
        "#IMPORTANT: line below should be commented out if threshold calculation section is run\r\n",
        "threshold = 21\r\n",
        "anon1thr = 46\r\n",
        "MTMTthr = 42"
      ],
      "execution_count": null,
      "outputs": []
    },
    {
      "cell_type": "markdown",
      "metadata": {
        "id": "QRHjW0QzIKcj"
      },
      "source": [
        "#### Sunglasses Model"
      ]
    },
    {
      "cell_type": "code",
      "metadata": {
        "colab": {
          "base_uri": "https://localhost:8080/"
        },
        "id": "zIaY4HS2SIA_",
        "outputId": "5bda4cb4-2a50-4e99-b9a4-6f141ea1210c"
      },
      "source": [
        "#clean test images\r\n",
        "print(\"Test Image Check In Progress\")\r\n",
        "test_yhat = []\r\n",
        "for i in range(len(test_x)):\r\n",
        "  if i%500 == 0:\r\n",
        "    print(\"Test: \" + str(round((i/len(test_x))*100, 2)) + \"%, Time: \" + str(datetime.datetime.now()))\r\n",
        "  newimages_test = []\r\n",
        "  validimages_test = []\r\n",
        "  for j in range(numoverlays):\r\n",
        "    validimages_test.append(valid_x[choice(sequence)])\r\n",
        "    newimages_test.append(data_preprocess(cv2.addWeighted(test_x[i],1,validimages_test[j],1,0,dtype=cv2.CV_64FC3)))\r\n",
        "\r\n",
        "  newimagesnda_test = np.asarray(newimages_test)\r\n",
        "  uniquevals = len(np.unique(np.argmax(model_BadNetSTRIP.predict(newimagesnda_test), axis=1)))\r\n",
        "  if uniquevals > threshold: #clean\r\n",
        "    test_yhat.append(1)\r\n",
        "  else:\r\n",
        "    test_yhat.append(0)\r\n",
        "\r\n",
        "print(\"\")\r\n",
        "truepos = round((sum(test_yhat)/len(test_yhat))*100, 2)\r\n",
        "print(\"True Pos: \" + str(truepos) + \"%\")"
      ],
      "execution_count": null,
      "outputs": [
        {
          "output_type": "stream",
          "text": [
            "Test Image Check In Progress\n",
            "Test: 0.0%, Time: 2020-12-17 16:54:59.922677\n",
            "Test: 3.9%, Time: 2020-12-17 16:56:03.979307\n",
            "Test: 7.79%, Time: 2020-12-17 16:57:07.826514\n",
            "Test: 11.69%, Time: 2020-12-17 16:58:11.744190\n",
            "Test: 15.59%, Time: 2020-12-17 16:59:15.296441\n",
            "Test: 19.49%, Time: 2020-12-17 17:00:19.478080\n",
            "Test: 23.38%, Time: 2020-12-17 17:01:23.291036\n",
            "Test: 27.28%, Time: 2020-12-17 17:02:26.836840\n",
            "Test: 31.18%, Time: 2020-12-17 17:03:31.002317\n",
            "Test: 35.07%, Time: 2020-12-17 17:04:34.041122\n",
            "Test: 38.97%, Time: 2020-12-17 17:05:38.589887\n",
            "Test: 42.87%, Time: 2020-12-17 17:06:42.822844\n",
            "Test: 46.77%, Time: 2020-12-17 17:07:47.070076\n",
            "Test: 50.66%, Time: 2020-12-17 17:08:51.322822\n",
            "Test: 54.56%, Time: 2020-12-17 17:09:55.258280\n",
            "Test: 58.46%, Time: 2020-12-17 17:10:59.713888\n",
            "Test: 62.35%, Time: 2020-12-17 17:12:03.934405\n",
            "Test: 66.25%, Time: 2020-12-17 17:13:07.992974\n",
            "Test: 70.15%, Time: 2020-12-17 17:14:11.157693\n",
            "Test: 74.05%, Time: 2020-12-17 17:15:15.027998\n",
            "Test: 77.94%, Time: 2020-12-17 17:16:18.568814\n",
            "Test: 81.84%, Time: 2020-12-17 17:17:21.737864\n",
            "Test: 85.74%, Time: 2020-12-17 17:18:25.511283\n",
            "Test: 89.63%, Time: 2020-12-17 17:19:28.316683\n",
            "Test: 93.53%, Time: 2020-12-17 17:20:31.558502\n",
            "Test: 97.43%, Time: 2020-12-17 17:21:34.635768\n",
            "\n",
            "True Pos: 97.65%\n"
          ],
          "name": "stdout"
        }
      ]
    },
    {
      "cell_type": "code",
      "metadata": {
        "colab": {
          "base_uri": "https://localhost:8080/"
        },
        "id": "IsxELEG1SK2X",
        "outputId": "1cd85832-570f-453d-be10-b13c1d40588d"
      },
      "source": [
        "#poisoned images\r\n",
        "print(\"Poisoned Image Check In Progress\")\r\n",
        "poison_yhat = []\r\n",
        "for i in range(len(poison_x)):\r\n",
        "  if i%500 == 0:\r\n",
        "    print(\"Poison: \" + str(round((i/len(poison_x))*100, 2)) + \"%, Time: \" + str(datetime.datetime.now()))\r\n",
        "  newimages_poison = []\r\n",
        "  validimages_poison = []\r\n",
        "  for j in range(numoverlays):\r\n",
        "    validimages_poison.append(valid_x[choice(sequence)])\r\n",
        "    newimages_poison.append(data_preprocess(cv2.addWeighted(poison_x[i],1,validimages_poison[j],1,0,dtype=cv2.CV_64FC3)))\r\n",
        "\r\n",
        "  newimagesnda_poison = np.asarray(newimages_poison)\r\n",
        "  uniquevals = len(np.unique(np.argmax(model_BadNetSTRIP.predict(newimagesnda_poison), axis=1)))\r\n",
        "  if uniquevals > threshold: #clean\r\n",
        "    poison_yhat.append(0) #swapped 0 and 1 for poisoned images\r\n",
        "  else:\r\n",
        "    poison_yhat.append(1)\r\n",
        "\r\n",
        "print(\"\")\r\n",
        "trueneg = round((sum(poison_yhat)/len(poison_yhat))*100, 2)\r\n",
        "print(\"True Neg: \" + str(trueneg) + \"%\")"
      ],
      "execution_count": null,
      "outputs": [
        {
          "output_type": "stream",
          "text": [
            "Poisoned Image Check In Progress\n",
            "Poison: 0.0%, Time: 2020-12-17 17:54:02.986163\n",
            "Poison: 3.9%, Time: 2020-12-17 17:55:06.473590\n",
            "Poison: 7.79%, Time: 2020-12-17 17:56:10.044548\n",
            "Poison: 11.69%, Time: 2020-12-17 17:57:13.909583\n",
            "Poison: 15.59%, Time: 2020-12-17 17:58:17.617518\n",
            "Poison: 19.49%, Time: 2020-12-17 17:59:21.142095\n",
            "Poison: 23.38%, Time: 2020-12-17 18:00:25.416868\n",
            "Poison: 27.28%, Time: 2020-12-17 18:01:29.442170\n",
            "Poison: 31.18%, Time: 2020-12-17 18:02:33.419858\n",
            "Poison: 35.07%, Time: 2020-12-17 18:03:37.556310\n",
            "Poison: 38.97%, Time: 2020-12-17 18:04:40.655970\n",
            "Poison: 42.87%, Time: 2020-12-17 18:05:44.736556\n",
            "Poison: 46.77%, Time: 2020-12-17 18:06:48.443800\n",
            "Poison: 50.66%, Time: 2020-12-17 18:07:51.115151\n",
            "Poison: 54.56%, Time: 2020-12-17 18:08:54.212408\n",
            "Poison: 58.46%, Time: 2020-12-17 18:09:57.489914\n",
            "Poison: 62.35%, Time: 2020-12-17 18:11:00.467976\n",
            "Poison: 66.25%, Time: 2020-12-17 18:12:04.676836\n",
            "Poison: 70.15%, Time: 2020-12-17 18:13:08.517286\n",
            "Poison: 74.05%, Time: 2020-12-17 18:14:11.392204\n",
            "Poison: 77.94%, Time: 2020-12-17 18:15:14.869388\n",
            "Poison: 81.84%, Time: 2020-12-17 18:16:17.976687\n",
            "Poison: 85.74%, Time: 2020-12-17 18:17:20.574025\n",
            "Poison: 89.63%, Time: 2020-12-17 18:18:22.817200\n",
            "Poison: 93.53%, Time: 2020-12-17 18:19:25.322205\n",
            "Poison: 97.43%, Time: 2020-12-17 18:20:28.070818\n",
            "\n",
            "True Neg: 92.77%\n"
          ],
          "name": "stdout"
        }
      ]
    },
    {
      "cell_type": "markdown",
      "metadata": {
        "id": "D_wkwGCYIQv6"
      },
      "source": [
        "#### Anonymous 1 Model"
      ]
    },
    {
      "cell_type": "code",
      "metadata": {
        "colab": {
          "base_uri": "https://localhost:8080/"
        },
        "id": "1bfwz4lJITTg",
        "outputId": "89fcca69-79da-4f4b-8e59-266039310e0b"
      },
      "source": [
        "# anonymous 1 poisoned images\r\n",
        "print(\"Anonymous 1 Poisoned Image Check In Progress\")\r\n",
        "anon1_yhat = []\r\n",
        "for i in range(len(anon1_x)):\r\n",
        "  if i%500 == 0:\r\n",
        "    print(\"Anon 1: \" + str(round((i/len(anon1_x))*100, 2)) + \"%, Time: \" + str(datetime.datetime.now()))\r\n",
        "  newimages_anon1 = []\r\n",
        "  validimages_anon1 = []\r\n",
        "  for j in range(numoverlays):\r\n",
        "    validimages_anon1.append(valid_x[choice(sequence)])\r\n",
        "    newimages_anon1.append(data_preprocess(cv2.addWeighted(anon1_x[i],1,validimages_anon1[j],1,0,dtype=cv2.CV_64FC3)))\r\n",
        "\r\n",
        "  newimagesnda_anon1 = np.asarray(newimages_anon1)\r\n",
        "  uniquevals = len(np.unique(np.argmax(model_BadNetAnon1STRIP.predict(newimagesnda_anon1), axis=1)))\r\n",
        "  if uniquevals > anon1thr: #clean\r\n",
        "    anon1_yhat.append(0) #swapped 0 and 1 for poisoned images\r\n",
        "  else:\r\n",
        "    anon1_yhat.append(1)\r\n",
        "\r\n",
        "print(\"\")\r\n",
        "trueneg = round((sum(anon1_yhat)/len(anon1_yhat))*100, 2)\r\n",
        "print(\"True Neg: \" + str(trueneg) + \"%\")"
      ],
      "execution_count": null,
      "outputs": [
        {
          "output_type": "stream",
          "text": [
            "Anonymous 1 Poisoned Image Check In Progress\n",
            "Anon 1: 0.0%, Time: 2020-12-21 17:01:30.753254\n",
            "Anon 1: 4.87%, Time: 2020-12-21 17:02:31.000606\n",
            "Anon 1: 9.74%, Time: 2020-12-21 17:03:30.750553\n",
            "Anon 1: 14.61%, Time: 2020-12-21 17:04:31.098376\n",
            "Anon 1: 19.49%, Time: 2020-12-21 17:05:32.242396\n",
            "Anon 1: 24.36%, Time: 2020-12-21 17:06:32.563126\n",
            "Anon 1: 29.23%, Time: 2020-12-21 17:07:32.870157\n",
            "Anon 1: 34.1%, Time: 2020-12-21 17:08:32.788262\n",
            "Anon 1: 38.97%, Time: 2020-12-21 17:09:32.868242\n",
            "Anon 1: 43.84%, Time: 2020-12-21 17:10:33.266583\n",
            "Anon 1: 48.71%, Time: 2020-12-21 17:11:33.484605\n",
            "Anon 1: 53.59%, Time: 2020-12-21 17:12:34.152862\n",
            "Anon 1: 58.46%, Time: 2020-12-21 17:13:34.532085\n",
            "Anon 1: 63.33%, Time: 2020-12-21 17:14:34.636637\n",
            "Anon 1: 68.2%, Time: 2020-12-21 17:15:35.049385\n",
            "Anon 1: 73.07%, Time: 2020-12-21 17:16:35.659834\n",
            "Anon 1: 77.94%, Time: 2020-12-21 17:17:35.910545\n",
            "Anon 1: 82.81%, Time: 2020-12-21 17:18:36.420228\n",
            "Anon 1: 87.69%, Time: 2020-12-21 17:19:36.395192\n",
            "Anon 1: 92.56%, Time: 2020-12-21 17:20:36.708067\n",
            "Anon 1: 97.43%, Time: 2020-12-21 17:21:36.722012\n",
            "\n",
            "True Neg: 94.81%\n"
          ],
          "name": "stdout"
        }
      ]
    },
    {
      "cell_type": "markdown",
      "metadata": {
        "id": "B3H4RDPPIdum"
      },
      "source": [
        "#### MTMT Model"
      ]
    },
    {
      "cell_type": "code",
      "metadata": {
        "colab": {
          "base_uri": "https://localhost:8080/"
        },
        "id": "zk28i_TLIfmD",
        "outputId": "a86abe7e-04d7-43e4-b170-eb3cc61a596e"
      },
      "source": [
        "# eyebrow poisoned images\r\n",
        "print(\"Eyebrow Poisoned Image Check In Progress\")\r\n",
        "eye_yhat = []\r\n",
        "for i in range(len(eye_x)):\r\n",
        "  if i%500 == 0:\r\n",
        "    print(\"Eye: \" + str(round((i/len(eye_x))*100, 2)) + \"%, Time: \" + str(datetime.datetime.now()))\r\n",
        "  newimages_eye = []\r\n",
        "  validimages_eye = []\r\n",
        "  for j in range(numoverlays):\r\n",
        "    validimages_eye.append(valid_x[choice(sequence)])\r\n",
        "    newimages_eye.append(data_preprocess(cv2.addWeighted(eye_x[i],1,validimages_eye[j],1,0,dtype=cv2.CV_64FC3)))\r\n",
        "\r\n",
        "  newimagesnda_eye = np.asarray(newimages_eye)\r\n",
        "  uniquevals = len(np.unique(np.argmax(model_BadNetMTMTSTRIP.predict(newimagesnda_eye), axis=1)))\r\n",
        "  if uniquevals > MTMTthr: #clean\r\n",
        "    eye_yhat.append(0) #swapped 0 and 1 for poisoned images\r\n",
        "  else:\r\n",
        "    eye_yhat.append(1)\r\n",
        "\r\n",
        "print(\"\")\r\n",
        "trueneg = round((sum(eye_yhat)/len(eye_yhat))*100, 2)\r\n",
        "print(\"True Neg: \" + str(trueneg) + \"%\")"
      ],
      "execution_count": null,
      "outputs": [
        {
          "output_type": "stream",
          "text": [
            "Eyebrow Poisoned Image Check In Progress\n",
            "Eye: 0.0%, Time: 2020-12-21 18:25:19.751697\n",
            "Eye: 4.87%, Time: 2020-12-21 18:26:19.278498\n",
            "Eye: 9.74%, Time: 2020-12-21 18:27:18.975858\n",
            "Eye: 14.61%, Time: 2020-12-21 18:28:18.834584\n",
            "Eye: 19.49%, Time: 2020-12-21 18:29:18.320816\n",
            "Eye: 24.36%, Time: 2020-12-21 18:30:17.561637\n",
            "Eye: 29.23%, Time: 2020-12-21 18:31:18.743654\n",
            "Eye: 34.1%, Time: 2020-12-21 18:32:18.699774\n",
            "Eye: 38.97%, Time: 2020-12-21 18:33:18.496293\n",
            "Eye: 43.84%, Time: 2020-12-21 18:34:18.232884\n",
            "Eye: 48.71%, Time: 2020-12-21 18:35:18.255758\n",
            "Eye: 53.59%, Time: 2020-12-21 18:36:17.591274\n",
            "Eye: 58.46%, Time: 2020-12-21 18:37:17.404054\n",
            "Eye: 63.33%, Time: 2020-12-21 18:38:17.384530\n",
            "Eye: 68.2%, Time: 2020-12-21 18:39:17.254424\n",
            "Eye: 73.07%, Time: 2020-12-21 18:40:16.452122\n",
            "Eye: 77.94%, Time: 2020-12-21 18:41:15.909125\n",
            "Eye: 82.81%, Time: 2020-12-21 18:42:15.093682\n",
            "Eye: 87.69%, Time: 2020-12-21 18:43:14.635784\n",
            "Eye: 92.56%, Time: 2020-12-21 18:44:14.362629\n",
            "Eye: 97.43%, Time: 2020-12-21 18:45:13.107136\n",
            "\n",
            "True Neg: 83.07%\n"
          ],
          "name": "stdout"
        }
      ]
    },
    {
      "cell_type": "code",
      "metadata": {
        "colab": {
          "base_uri": "https://localhost:8080/"
        },
        "id": "cw-mvLITjIN4",
        "outputId": "d7eb80be-da00-404c-dda3-b1e1e176b8ad"
      },
      "source": [
        "# lipstick poisoned images\r\n",
        "print(\"Lipstick Poisoned Image Check In Progress\")\r\n",
        "lip_yhat = []\r\n",
        "for i in range(len(lip_x)):\r\n",
        "  if i%500 == 0:\r\n",
        "    print(\"Lip: \" + str(round((i/len(lip_x))*100, 2)) + \"%, Time: \" + str(datetime.datetime.now()))\r\n",
        "  newimages_lip = []\r\n",
        "  validimages_lip = []\r\n",
        "  for j in range(numoverlays):\r\n",
        "    validimages_lip.append(valid_x[choice(sequence)])\r\n",
        "    newimages_lip.append(data_preprocess(cv2.addWeighted(lip_x[i],1,validimages_lip[j],1,0,dtype=cv2.CV_64FC3)))\r\n",
        "\r\n",
        "  newimagesnda_lip = np.asarray(newimages_lip)\r\n",
        "  uniquevals = len(np.unique(np.argmax(model_BadNetMTMTSTRIP.predict(newimagesnda_lip), axis=1)))\r\n",
        "  if uniquevals > MTMTthr: #clean\r\n",
        "    lip_yhat.append(0) #swapped 0 and 1 for poisoned images\r\n",
        "  else:\r\n",
        "    lip_yhat.append(1)\r\n",
        "\r\n",
        "print(\"\")\r\n",
        "trueneg = round((sum(lip_yhat)/len(lip_yhat))*100, 2)\r\n",
        "print(\"True Neg: \" + str(trueneg) + \"%\")"
      ],
      "execution_count": null,
      "outputs": [
        {
          "output_type": "stream",
          "text": [
            "Lipstick Poisoned Image Check In Progress\n",
            "Lip: 0.0%, Time: 2020-12-21 19:16:57.748395\n",
            "Lip: 4.87%, Time: 2020-12-21 19:17:56.825906\n",
            "Lip: 9.74%, Time: 2020-12-21 19:18:55.874253\n",
            "Lip: 14.61%, Time: 2020-12-21 19:19:54.926428\n",
            "Lip: 19.49%, Time: 2020-12-21 19:20:53.869762\n",
            "Lip: 24.36%, Time: 2020-12-21 19:21:52.881175\n",
            "Lip: 29.23%, Time: 2020-12-21 19:22:52.332120\n",
            "Lip: 34.1%, Time: 2020-12-21 19:23:51.432658\n",
            "Lip: 38.97%, Time: 2020-12-21 19:24:50.843458\n",
            "Lip: 43.84%, Time: 2020-12-21 19:25:50.441751\n",
            "Lip: 48.71%, Time: 2020-12-21 19:26:49.770533\n",
            "Lip: 53.59%, Time: 2020-12-21 19:27:49.137655\n",
            "Lip: 58.46%, Time: 2020-12-21 19:28:49.004883\n",
            "Lip: 63.33%, Time: 2020-12-21 19:29:48.316476\n",
            "Lip: 68.2%, Time: 2020-12-21 19:30:47.410982\n",
            "Lip: 73.07%, Time: 2020-12-21 19:31:46.170812\n",
            "Lip: 77.94%, Time: 2020-12-21 19:32:45.716037\n",
            "Lip: 82.81%, Time: 2020-12-21 19:33:44.858216\n",
            "Lip: 87.69%, Time: 2020-12-21 19:34:43.981483\n",
            "Lip: 92.56%, Time: 2020-12-21 19:35:42.615117\n",
            "Lip: 97.43%, Time: 2020-12-21 19:36:41.019482\n",
            "\n",
            "True Neg: 92.55%\n"
          ],
          "name": "stdout"
        }
      ]
    },
    {
      "cell_type": "code",
      "metadata": {
        "colab": {
          "base_uri": "https://localhost:8080/"
        },
        "id": "6NUIYEKyjgDa",
        "outputId": "35005468-1e59-4b01-f109-1645f05cddd3"
      },
      "source": [
        "# sunglasses poisoned images\r\n",
        "print(\"Sunglasses Poisoned Image Check In Progress\")\r\n",
        "sun_yhat = []\r\n",
        "for i in range(len(sun_x)):\r\n",
        "  if i%500 == 0:\r\n",
        "    print(\"Sun: \" + str(round((i/len(sun_x))*100, 2)) + \"%, Time: \" + str(datetime.datetime.now()))\r\n",
        "  newimages_sun = []\r\n",
        "  validimages_sun = []\r\n",
        "  for j in range(numoverlays):\r\n",
        "    validimages_sun.append(valid_x[choice(sequence)])\r\n",
        "    newimages_sun.append(data_preprocess(cv2.addWeighted(sun_x[i],1,validimages_sun[j],1,0,dtype=cv2.CV_64FC3)))\r\n",
        "\r\n",
        "  newimagesnda_sun = np.asarray(newimages_sun)\r\n",
        "  uniquevals = len(np.unique(np.argmax(model_BadNetMTMTSTRIP.predict(newimagesnda_sun), axis=1)))\r\n",
        "  if uniquevals > MTMTthr: #clean\r\n",
        "    sun_yhat.append(0) #swapped 0 and 1 for poisoned images\r\n",
        "  else:\r\n",
        "    sun_yhat.append(1)\r\n",
        "\r\n",
        "print(\"\")\r\n",
        "trueneg = round((sum(sun_yhat)/len(sun_yhat))*100, 2)\r\n",
        "print(\"True Neg: \" + str(trueneg) + \"%\")"
      ],
      "execution_count": null,
      "outputs": [
        {
          "output_type": "stream",
          "text": [
            "Sunglasses Poisoned Image Check In Progress\n",
            "Sun: 0.0%, Time: 2020-12-21 18:45:47.281259\n",
            "Sun: 4.87%, Time: 2020-12-21 18:46:47.019705\n",
            "Sun: 9.74%, Time: 2020-12-21 18:47:46.065082\n",
            "Sun: 14.61%, Time: 2020-12-21 18:48:45.319170\n",
            "Sun: 19.49%, Time: 2020-12-21 18:49:44.549264\n",
            "Sun: 24.36%, Time: 2020-12-21 18:50:43.438351\n",
            "Sun: 29.23%, Time: 2020-12-21 18:51:42.709419\n",
            "Sun: 34.1%, Time: 2020-12-21 18:52:42.437367\n",
            "Sun: 38.97%, Time: 2020-12-21 18:53:41.905485\n",
            "Sun: 43.84%, Time: 2020-12-21 18:54:41.322596\n",
            "Sun: 48.71%, Time: 2020-12-21 18:55:40.818949\n",
            "Sun: 53.59%, Time: 2020-12-21 18:56:40.631029\n",
            "Sun: 58.46%, Time: 2020-12-21 18:57:39.953483\n",
            "Sun: 63.33%, Time: 2020-12-21 18:58:38.912542\n",
            "Sun: 68.2%, Time: 2020-12-21 18:59:38.250303\n",
            "Sun: 73.07%, Time: 2020-12-21 19:00:37.598696\n",
            "Sun: 77.94%, Time: 2020-12-21 19:01:36.334049\n",
            "Sun: 82.81%, Time: 2020-12-21 19:02:35.240465\n",
            "Sun: 87.69%, Time: 2020-12-21 19:03:34.375124\n",
            "Sun: 92.56%, Time: 2020-12-21 19:04:33.247403\n",
            "Sun: 97.43%, Time: 2020-12-21 19:05:32.170787\n",
            "\n",
            "True Neg: 100.0%\n"
          ],
          "name": "stdout"
        }
      ]
    }
  ]
}